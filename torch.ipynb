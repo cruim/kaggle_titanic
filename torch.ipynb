{
 "cells": [
  {
   "cell_type": "code",
   "execution_count": 113,
   "metadata": {},
   "outputs": [],
   "source": [
    "import numpy as np\n",
    "import pandas as pd\n",
    "from sklearn.model_selection import train_test_split\n",
    "import torch\n",
    "import torch.nn as nn\n",
    "from torch.nn import functional as F\n",
    "from torch.autograd import Variable\n",
    "\n",
    "train = pd.read_csv('input/train.csv')\n",
    "test  = pd.read_csv('input/test.csv')\n",
    "df_sub   = pd.read_csv('input/gender_submission.csv')"
   ]
  },
  {
   "cell_type": "code",
   "execution_count": 27,
   "metadata": {},
   "outputs": [],
   "source": [
    "# Создадим два новых dataframes\n",
    "df_bin = pd.DataFrame() \n",
    "df_con = pd.DataFrame()"
   ]
  },
  {
   "cell_type": "code",
   "execution_count": 30,
   "metadata": {},
   "outputs": [],
   "source": [
    "df_bin['Survived'] = train['Survived']\n",
    "df_con['Survived'] = train['Survived']"
   ]
  },
  {
   "cell_type": "code",
   "execution_count": 31,
   "metadata": {},
   "outputs": [],
   "source": [
    "df_bin['Pclass'] = train['Pclass']\n",
    "df_con['Pclass'] = train['Pclass']"
   ]
  },
  {
   "cell_type": "code",
   "execution_count": 32,
   "metadata": {},
   "outputs": [],
   "source": [
    "df_bin['Sex'] = train['Sex']\n",
    "df_bin['Sex'] = np.where(df_bin['Sex'] == 'female', 1, 0)\n",
    "df_con['Sex'] = train['Sex']"
   ]
  },
  {
   "cell_type": "code",
   "execution_count": 33,
   "metadata": {},
   "outputs": [],
   "source": [
    "df_bin['SibSp'] = train['SibSp']\n",
    "df_con['SibSp'] = train['SibSp']"
   ]
  },
  {
   "cell_type": "code",
   "execution_count": 34,
   "metadata": {},
   "outputs": [],
   "source": [
    "df_bin['Parch'] = train['Parch']\n",
    "df_con['Parch'] = train['Parch']"
   ]
  },
  {
   "cell_type": "code",
   "execution_count": 35,
   "metadata": {},
   "outputs": [],
   "source": [
    "df_con['Name'] = train['Name']\n",
    "df_con.head(10)\n",
    "train_test_data = [df_con]\n",
    "for title in train_test_data:\n",
    "    title['Title'] = title['Name'].str.extract(' ([A-Za-z]+)\\.', expand=False)"
   ]
  },
  {
   "cell_type": "code",
   "execution_count": 37,
   "metadata": {},
   "outputs": [],
   "source": [
    "df_bin['Age'] = train['Age']\n",
    "df_con['Age'] = train['Age']"
   ]
  },
  {
   "cell_type": "code",
   "execution_count": 39,
   "metadata": {},
   "outputs": [],
   "source": [
    "title_mapping = {\"Mr\": 0, \"Miss\": 1, \"Mrs\": 2, \n",
    "                 \"Master\": 3, \"Dr\": 3, \"Rev\": 3, \"Col\": 3, \"Major\": 3, \"Mlle\": 3,\"Countess\": 3,\n",
    "                 \"Ms\": 3, \"Lady\": 3, \"Jonkheer\": 3, \"Don\": 3, \"Dona\" : 3, \"Mme\": 3,\"Capt\": 3,\"Sir\": 3}\n",
    "for bin_title in [df_con]:\n",
    "    df_bin['Title'] = bin_title['Title'].map(title_mapping)"
   ]
  },
  {
   "cell_type": "code",
   "execution_count": 40,
   "metadata": {},
   "outputs": [],
   "source": [
    "df_bin['Age'].fillna(df_bin.groupby('Title')['Age'].transform('median'), inplace=True)\n",
    "df_con['Age'].fillna(df_con.groupby('Title')['Age'].transform('median'), inplace=True)"
   ]
  },
  {
   "cell_type": "code",
   "execution_count": 41,
   "metadata": {},
   "outputs": [],
   "source": [
    "for bin_age in [df_bin]:\n",
    "    bin_age.loc[bin_age['Age'] <= 15, 'Age'] = 0, # Дети\n",
    "    bin_age.loc[(bin_age['Age'] > 15) & (bin_age['Age'] <= 25), 'Age'] = 1, # Молодые\n",
    "    bin_age.loc[(bin_age['Age'] > 25) & (bin_age['Age'] <= 35), 'Age'] = 2, # Взрослые\n",
    "    bin_age.loc[(bin_age['Age'] > 35) & (bin_age['Age'] <= 48), 'Age'] = 3, # Средний возраст\n",
    "    bin_age.loc[(bin_age['Age'] > 48), 'Age'] = 4 # Пожилые"
   ]
  },
  {
   "cell_type": "code",
   "execution_count": 42,
   "metadata": {},
   "outputs": [],
   "source": [
    "df_con['Embarked'] = train['Embarked']\n",
    "for embarked_con in [df_con]:\n",
    "    embarked_con['Embarked'] = embarked_con['Embarked'].fillna('S')"
   ]
  },
  {
   "cell_type": "code",
   "execution_count": 43,
   "metadata": {},
   "outputs": [],
   "source": [
    "embarked_map = {'S': 0, 'C': 1, 'Q': 2}\n",
    "df_bin['Embarked'] = df_con['Embarked']\n",
    "for embarked_bin in [df_bin]:\n",
    "    embarked_bin['Embarked'] = embarked_bin['Embarked'].map(embarked_map)"
   ]
  },
  {
   "cell_type": "code",
   "execution_count": 44,
   "metadata": {},
   "outputs": [],
   "source": [
    "df_bin.Age = df_bin.Age.astype(np.int64)"
   ]
  },
  {
   "cell_type": "code",
   "execution_count": 45,
   "metadata": {},
   "outputs": [],
   "source": [
    "df_bin['Fare'] = train['Fare']"
   ]
  },
  {
   "cell_type": "code",
   "execution_count": 46,
   "metadata": {},
   "outputs": [],
   "source": [
    "for dataset in [df_bin]:\n",
    "    dataset.loc[ dataset['Fare'] <= 17, 'Fare'] = 0,\n",
    "    dataset.loc[(dataset['Fare'] > 17) & (dataset['Fare'] <= 30), 'Fare'] = 1,\n",
    "    dataset.loc[(dataset['Fare'] > 30) & (dataset['Fare'] <= 100), 'Fare'] = 2,\n",
    "    dataset.loc[ dataset['Fare'] > 100, 'Fare'] = 3"
   ]
  },
  {
   "cell_type": "code",
   "execution_count": 47,
   "metadata": {},
   "outputs": [],
   "source": [
    "df_bin.Fare = df_bin.Fare.astype(np.int64)"
   ]
  },
  {
   "cell_type": "code",
   "execution_count": 54,
   "metadata": {},
   "outputs": [],
   "source": [
    "test_  = pd.read_csv('input/test.csv')"
   ]
  },
  {
   "cell_type": "code",
   "execution_count": 171,
   "metadata": {},
   "outputs": [
    {
     "data": {
      "text/html": [
       "<div>\n",
       "<style scoped>\n",
       "    .dataframe tbody tr th:only-of-type {\n",
       "        vertical-align: middle;\n",
       "    }\n",
       "\n",
       "    .dataframe tbody tr th {\n",
       "        vertical-align: top;\n",
       "    }\n",
       "\n",
       "    .dataframe thead th {\n",
       "        text-align: right;\n",
       "    }\n",
       "</style>\n",
       "<table border=\"1\" class=\"dataframe\">\n",
       "  <thead>\n",
       "    <tr style=\"text-align: right;\">\n",
       "      <th></th>\n",
       "      <th>Pclass</th>\n",
       "      <th>Sex</th>\n",
       "      <th>SibSp</th>\n",
       "      <th>Parch</th>\n",
       "      <th>Age</th>\n",
       "      <th>Embarked</th>\n",
       "      <th>Fare</th>\n",
       "    </tr>\n",
       "  </thead>\n",
       "  <tbody>\n",
       "    <tr>\n",
       "      <th>0</th>\n",
       "      <td>3</td>\n",
       "      <td>0</td>\n",
       "      <td>0</td>\n",
       "      <td>0</td>\n",
       "      <td>2</td>\n",
       "      <td>2</td>\n",
       "      <td>0</td>\n",
       "    </tr>\n",
       "    <tr>\n",
       "      <th>1</th>\n",
       "      <td>3</td>\n",
       "      <td>1</td>\n",
       "      <td>1</td>\n",
       "      <td>0</td>\n",
       "      <td>3</td>\n",
       "      <td>0</td>\n",
       "      <td>0</td>\n",
       "    </tr>\n",
       "    <tr>\n",
       "      <th>2</th>\n",
       "      <td>2</td>\n",
       "      <td>0</td>\n",
       "      <td>0</td>\n",
       "      <td>0</td>\n",
       "      <td>4</td>\n",
       "      <td>2</td>\n",
       "      <td>0</td>\n",
       "    </tr>\n",
       "    <tr>\n",
       "      <th>3</th>\n",
       "      <td>3</td>\n",
       "      <td>0</td>\n",
       "      <td>0</td>\n",
       "      <td>0</td>\n",
       "      <td>2</td>\n",
       "      <td>0</td>\n",
       "      <td>0</td>\n",
       "    </tr>\n",
       "    <tr>\n",
       "      <th>4</th>\n",
       "      <td>3</td>\n",
       "      <td>1</td>\n",
       "      <td>1</td>\n",
       "      <td>1</td>\n",
       "      <td>1</td>\n",
       "      <td>0</td>\n",
       "      <td>1</td>\n",
       "    </tr>\n",
       "  </tbody>\n",
       "</table>\n",
       "</div>"
      ],
      "text/plain": [
       "   Pclass  Sex  SibSp  Parch  Age  Embarked  Fare\n",
       "0       3    0      0      0    2         2     0\n",
       "1       3    1      1      0    3         0     0\n",
       "2       2    0      0      0    4         2     0\n",
       "3       3    0      0      0    2         0     0\n",
       "4       3    1      1      1    1         0     1"
      ]
     },
     "execution_count": 171,
     "metadata": {},
     "output_type": "execute_result"
    }
   ],
   "source": [
    "test[wanted_test_columns].head()"
   ]
  },
  {
   "cell_type": "code",
   "execution_count": 173,
   "metadata": {},
   "outputs": [],
   "source": [
    "X_train = df_bin\n",
    "y_train = train['Survived']"
   ]
  },
  {
   "cell_type": "code",
   "execution_count": 174,
   "metadata": {},
   "outputs": [],
   "source": [
    "X_train = X_train.values\n",
    "y_train = y_train.values"
   ]
  },
  {
   "cell_type": "code",
   "execution_count": 175,
   "metadata": {},
   "outputs": [],
   "source": [
    "X_train, X_test, y_train, y_test = train_test_split(X_train, y_train, test_size=0.2)"
   ]
  },
  {
   "cell_type": "code",
   "execution_count": 176,
   "metadata": {},
   "outputs": [],
   "source": [
    "XTrain, yTrain, XTest, yTest = map(torch.tensor, (X_train, y_train, X_test, y_test))"
   ]
  },
  {
   "cell_type": "code",
   "execution_count": 177,
   "metadata": {},
   "outputs": [
    {
     "name": "stdout",
     "output_type": "stream",
     "text": [
      "torch.Size([712, 7]) torch.Size([712])\n"
     ]
    }
   ],
   "source": [
    "print(XTrain.shape, yTrain.shape)"
   ]
  },
  {
   "cell_type": "code",
   "execution_count": 178,
   "metadata": {},
   "outputs": [],
   "source": [
    "XTrain = XTrain.float()\n",
    "XTest = XTest.float()"
   ]
  },
  {
   "cell_type": "code",
   "execution_count": 188,
   "metadata": {},
   "outputs": [
    {
     "name": "stdout",
     "output_type": "stream",
     "text": [
      "torch.Size([712, 7]) torch.Size([712]) torch.Size([179]) torch.Size([179, 7])\n"
     ]
    }
   ],
   "source": [
    "print(XTrain.shape, yTrain.shape, yTest.shape, XTest.shape)"
   ]
  },
  {
   "cell_type": "code",
   "execution_count": 126,
   "metadata": {},
   "outputs": [
    {
     "data": {
      "text/plain": [
       "Index(['Pclass', 'Sex', 'SibSp', 'Parch', 'Age', 'Embarked', 'Fare'], dtype='object')"
      ]
     },
     "execution_count": 126,
     "metadata": {},
     "output_type": "execute_result"
    }
   ],
   "source": [
    "wanted_test_columns = df_bin.columns\n",
    "wanted_test_columns"
   ]
  },
  {
   "cell_type": "code",
   "execution_count": 97,
   "metadata": {},
   "outputs": [],
   "source": [
    "for embarked_bin in [test]:\n",
    "    embarked_bin['Embarked'] = embarked_bin['Embarked'].map(embarked_map)"
   ]
  },
  {
   "cell_type": "code",
   "execution_count": 98,
   "metadata": {},
   "outputs": [],
   "source": [
    "for bin_age in [test]:\n",
    "    bin_age.loc[bin_age['Age'] <= 15, 'Age'] = 0, # Дети\n",
    "    bin_age.loc[(bin_age['Age'] > 15) & (bin_age['Age'] <= 25), 'Age'] = 1, # Молодые\n",
    "    bin_age.loc[(bin_age['Age'] > 25) & (bin_age['Age'] <= 35), 'Age'] = 2, # Взрослые\n",
    "    bin_age.loc[(bin_age['Age'] > 35) & (bin_age['Age'] <= 48), 'Age'] = 3, # Средний возраст\n",
    "    bin_age.loc[(bin_age['Age'] > 48), 'Age'] = 4 # Пожилые"
   ]
  },
  {
   "cell_type": "code",
   "execution_count": 99,
   "metadata": {},
   "outputs": [],
   "source": [
    "for title in [test]:\n",
    "    title['Title'] = title['Name'].str.extract(' ([A-Za-z]+)\\.', expand=False)\n",
    "for bin_title in [test]:\n",
    "    bin_title['Title'] = bin_title['Title'].map(title_mapping)"
   ]
  },
  {
   "cell_type": "code",
   "execution_count": 100,
   "metadata": {},
   "outputs": [],
   "source": [
    "test['Age'].fillna(test.groupby('Title')['Age'].transform('median'), inplace=True)"
   ]
  },
  {
   "cell_type": "code",
   "execution_count": 101,
   "metadata": {},
   "outputs": [],
   "source": [
    "test['Fare'].fillna(test.groupby('Pclass')['Fare'].transform('median'), inplace=True)\n",
    "for dataset in [test]:\n",
    "    dataset.loc[ dataset['Fare'] <= 10, 'Fare'] = 0,\n",
    "    dataset.loc[(dataset['Fare'] > 10) & (dataset['Fare'] <= 30), 'Fare'] = 1,\n",
    "    dataset.loc[(dataset['Fare'] > 30) & (dataset['Fare'] <= 100), 'Fare'] = 2,\n",
    "    dataset.loc[ dataset['Fare'] > 100, 'Fare'] = 3\n",
    "test.Fare = test.Fare.astype(np.int64)"
   ]
  },
  {
   "cell_type": "code",
   "execution_count": 102,
   "metadata": {},
   "outputs": [],
   "source": [
    "test['Sex'] = np.where(test['Sex'] == 'female', 1, 0)"
   ]
  },
  {
   "cell_type": "code",
   "execution_count": 104,
   "metadata": {},
   "outputs": [],
   "source": [
    "test.Age = test.Age.astype(np.int64)"
   ]
  },
  {
   "cell_type": "code",
   "execution_count": 105,
   "metadata": {},
   "outputs": [],
   "source": [
    "pred = torch.from_numpy(test[wanted_test_columns].values)"
   ]
  },
  {
   "cell_type": "code",
   "execution_count": 106,
   "metadata": {},
   "outputs": [],
   "source": [
    "sample_sub = pd.read_csv('input/gender_submission.csv')"
   ]
  },
  {
   "cell_type": "code",
   "execution_count": 109,
   "metadata": {},
   "outputs": [],
   "source": [
    "sample_sub['Survived'] = the_model(pred.float()).argmax(dim=1)"
   ]
  },
  {
   "cell_type": "code",
   "execution_count": 190,
   "metadata": {},
   "outputs": [
    {
     "name": "stdout",
     "output_type": "stream",
     "text": [
      "Net(\n",
      "  (fc1): Linear(in_features=7, out_features=512, bias=True)\n",
      "  (fc2): Linear(in_features=512, out_features=512, bias=True)\n",
      "  (fc3): Linear(in_features=512, out_features=2, bias=True)\n",
      "  (dropout): Dropout(p=0.2, inplace=False)\n",
      ")\n"
     ]
    }
   ],
   "source": [
    "class Net(nn.Module):\n",
    "    def __init__(self):\n",
    "        super(Net, self).__init__()\n",
    "        self.fc1 = nn.Linear(7, 512)\n",
    "        self.fc2 = nn.Linear(512, 512)\n",
    "        self.fc3 = nn.Linear(512, 2)\n",
    "        self.dropout = nn.Dropout(0.2)\n",
    "        \n",
    "    def forward(self, x):\n",
    "        x = F.relu(self.fc1(x))\n",
    "        x = self.dropout(x)\n",
    "        x = F.relu(self.fc2(x))\n",
    "        x = self.dropout(x)\n",
    "        x = self.fc3(x)\n",
    "        return x\n",
    "model = Net()\n",
    "print(model)"
   ]
  },
  {
   "cell_type": "code",
   "execution_count": 191,
   "metadata": {},
   "outputs": [],
   "source": [
    "criterion = nn.CrossEntropyLoss()"
   ]
  },
  {
   "cell_type": "code",
   "execution_count": 187,
   "metadata": {},
   "outputs": [
    {
     "data": {
      "text/plain": [
       "11"
      ]
     },
     "execution_count": 187,
     "metadata": {},
     "output_type": "execute_result"
    }
   ],
   "source": [
    "len(X_train) // batch_size"
   ]
  },
  {
   "cell_type": "code",
   "execution_count": 192,
   "metadata": {},
   "outputs": [],
   "source": [
    "optimizer = torch.optim.SGD(model.parameters(), lr=0.01)"
   ]
  },
  {
   "cell_type": "code",
   "execution_count": 195,
   "metadata": {},
   "outputs": [
    {
     "name": "stdout",
     "output_type": "stream",
     "text": [
      "Validation loss decreased (   inf ===> 0.329211). Saving the model...\n",
      "\n",
      "Epoch: 1 \tTrain Loss: 0.32921074749378676 \tTrain Accuracy: 0.78125\n",
      "Validation loss decreased (0.329211 ===> 0.328321). Saving the model...\n",
      "Validation loss decreased (0.328321 ===> 0.326182). Saving the model...\n",
      "Validation loss decreased (0.326182 ===> 0.325281). Saving the model...\n",
      "Validation loss decreased (0.325281 ===> 0.321435). Saving the model...\n",
      "Validation loss decreased (0.321435 ===> 0.320603). Saving the model...\n",
      "Validation loss decreased (0.320603 ===> 0.319098). Saving the model...\n",
      "Validation loss decreased (0.319098 ===> 0.318781). Saving the model...\n",
      "Validation loss decreased (0.318781 ===> 0.317622). Saving the model...\n",
      "\n",
      "Epoch: 201 \tTrain Loss: 0.33328051551435217 \tTrain Accuracy: 0.78125\n",
      "Validation loss decreased (0.317622 ===> 0.311174). Saving the model...\n",
      "Validation loss decreased (0.311174 ===> 0.309825). Saving the model...\n",
      "\n",
      "Epoch: 401 \tTrain Loss: 0.3523615774620969 \tTrain Accuracy: 0.796875\n",
      "Validation loss decreased (0.309825 ===> 0.307972). Saving the model...\n",
      "Validation loss decreased (0.307972 ===> 0.305950). Saving the model...\n",
      "Validation loss decreased (0.305950 ===> 0.298548). Saving the model...\n",
      "\n",
      "Epoch: 601 \tTrain Loss: 0.31535967495888084 \tTrain Accuracy: 0.8125\n",
      "Validation loss decreased (0.298548 ===> 0.296970). Saving the model...\n",
      "Validation loss decreased (0.296970 ===> 0.296633). Saving the model...\n",
      "\n",
      "Epoch: 801 \tTrain Loss: 0.32022942689584183 \tTrain Accuracy: 0.78125\n",
      "\n",
      "Epoch: 1001 \tTrain Loss: 0.31143426996597756 \tTrain Accuracy: 0.796875\n",
      "Validation loss decreased (0.296633 ===> 0.293147). Saving the model...\n",
      "Validation loss decreased (0.293147 ===> 0.290600). Saving the model...\n",
      "\n",
      "Epoch: 1201 \tTrain Loss: 0.31244746724106454 \tTrain Accuracy: 0.8125\n",
      "Validation loss decreased (0.290600 ===> 0.286348). Saving the model...\n",
      "\n",
      "Epoch: 1401 \tTrain Loss: 0.28810254090977716 \tTrain Accuracy: 0.8125\n",
      "Validation loss decreased (0.286348 ===> 0.285997). Saving the model...\n",
      "Validation loss decreased (0.285997 ===> 0.285810). Saving the model...\n",
      "Validation loss decreased (0.285810 ===> 0.284594). Saving the model...\n",
      "\n",
      "Epoch: 1601 \tTrain Loss: 0.296898122408087 \tTrain Accuracy: 0.8125\n",
      "Validation loss decreased (0.284594 ===> 0.281893). Saving the model...\n",
      "Validation loss decreased (0.281893 ===> 0.278917). Saving the model...\n",
      "\n",
      "Epoch: 1801 \tTrain Loss: 0.2948143898523609 \tTrain Accuracy: 0.828125\n",
      "Validation loss decreased (0.278917 ===> 0.276698). Saving the model...\n",
      "\n",
      "Epoch: 2001 \tTrain Loss: 0.29894002981810514 \tTrain Accuracy: 0.84375\n",
      "Validation loss decreased (0.276698 ===> 0.272322). Saving the model...\n",
      "\n",
      "Epoch: 2201 \tTrain Loss: 0.30274747703047017 \tTrain Accuracy: 0.8125\n",
      "Validation loss decreased (0.272322 ===> 0.270655). Saving the model...\n",
      "\n",
      "Epoch: 2401 \tTrain Loss: 0.27943155302074707 \tTrain Accuracy: 0.828125\n",
      "Validation loss decreased (0.270655 ===> 0.267815). Saving the model...\n",
      "\n",
      "Epoch: 2601 \tTrain Loss: 0.295476517340512 \tTrain Accuracy: 0.8125\n",
      "Validation loss decreased (0.267815 ===> 0.267436). Saving the model...\n",
      "Validation loss decreased (0.267436 ===> 0.266975). Saving the model...\n",
      "\n",
      "Epoch: 2801 \tTrain Loss: 0.2956449898303314 \tTrain Accuracy: 0.765625\n",
      "Validation loss decreased (0.266975 ===> 0.264201). Saving the model...\n",
      "\n",
      "Epoch: 3001 \tTrain Loss: 0.29443235807601553 \tTrain Accuracy: 0.828125\n",
      "Validation loss decreased (0.264201 ===> 0.263821). Saving the model...\n",
      "Validation loss decreased (0.263821 ===> 0.263465). Saving the model...\n",
      "Validation loss decreased (0.263465 ===> 0.263324). Saving the model...\n",
      "\n",
      "Epoch: 3201 \tTrain Loss: 0.2771065429090109 \tTrain Accuracy: 0.796875\n",
      "Validation loss decreased (0.263324 ===> 0.263006). Saving the model...\n",
      "\n",
      "Epoch: 3401 \tTrain Loss: 0.2726356713373393 \tTrain Accuracy: 0.8125\n",
      "Validation loss decreased (0.263006 ===> 0.261614). Saving the model...\n",
      "Validation loss decreased (0.261614 ===> 0.258347). Saving the model...\n",
      "Validation loss decreased (0.258347 ===> 0.257588). Saving the model...\n",
      "\n",
      "Epoch: 3601 \tTrain Loss: 0.2642777219034156 \tTrain Accuracy: 0.828125\n",
      "Validation loss decreased (0.257588 ===> 0.256770). Saving the model...\n",
      "\n",
      "Epoch: 3801 \tTrain Loss: 0.27116069772931317 \tTrain Accuracy: 0.828125\n",
      "Validation loss decreased (0.256770 ===> 0.255936). Saving the model...\n",
      "Validation loss decreased (0.255936 ===> 0.255797). Saving the model...\n",
      "\n",
      "Epoch: 4001 \tTrain Loss: 0.2679417204764255 \tTrain Accuracy: 0.8125\n",
      "Validation loss decreased (0.255797 ===> 0.252451). Saving the model...\n",
      "\n",
      "Epoch: 4201 \tTrain Loss: 0.2715282351082092 \tTrain Accuracy: 0.796875\n",
      "\n",
      "Epoch: 4401 \tTrain Loss: 0.26072227428666916 \tTrain Accuracy: 0.828125\n",
      "Validation loss decreased (0.252451 ===> 0.251339). Saving the model...\n",
      "\n",
      "Epoch: 4601 \tTrain Loss: 0.2610735984573867 \tTrain Accuracy: 0.84375\n",
      "Validation loss decreased (0.251339 ===> 0.250696). Saving the model...\n",
      "\n",
      "Epoch: 4801 \tTrain Loss: 0.2723948627837132 \tTrain Accuracy: 0.8125\n",
      "Training Ended! \n"
     ]
    }
   ],
   "source": [
    "batch_size = 64\n",
    "n_epochs = 2000\n",
    "batch_no = len(X_train) // batch_size\n",
    "\n",
    "train_loss = 0\n",
    "train_loss_min = np.Inf\n",
    "for epoch in range(n_epochs):\n",
    "    for i in range(batch_no):\n",
    "        start = i*batch_size\n",
    "        end = start+batch_size\n",
    "        x_var = Variable(torch.FloatTensor(X_train[start:end]))\n",
    "        y_var = Variable(torch.LongTensor(y_train[start:end])) \n",
    "        \n",
    "        optimizer.zero_grad()\n",
    "        output = model(x_var)\n",
    "        loss = criterion(output,y_var)\n",
    "        loss.backward()\n",
    "        optimizer.step()\n",
    "        \n",
    "        values, labels = torch.max(output, 1)\n",
    "        num_right = np.sum(labels.data.numpy() == y_train[start:end])\n",
    "        train_loss += loss.item()*batch_size\n",
    "    \n",
    "    train_loss = train_loss / len(X_train)\n",
    "    if train_loss <= train_loss_min:\n",
    "        print(\"Validation loss decreased ({:6f} ===> {:6f}). Saving the model...\".format(train_loss_min,train_loss))\n",
    "        torch.save(model.state_dict(), \"model.pt\")\n",
    "        train_loss_min = train_loss\n",
    "    \n",
    "    if epoch % 200 == 0:\n",
    "        print('')\n",
    "        print(\"Epoch: {} \\tTrain Loss: {} \\tTrain Accuracy: {}\".format(epoch+1, train_loss,num_right / len(y_train[start:end]) ))\n",
    "print('Training Ended! ')"
   ]
  },
  {
   "cell_type": "code",
   "execution_count": 197,
   "metadata": {},
   "outputs": [
    {
     "data": {
      "text/plain": [
       "Net(\n",
       "  (fc1): Linear(in_features=7, out_features=512, bias=True)\n",
       "  (fc2): Linear(in_features=512, out_features=512, bias=True)\n",
       "  (fc3): Linear(in_features=512, out_features=2, bias=True)\n",
       "  (dropout): Dropout(p=0.2, inplace=False)\n",
       ")"
      ]
     },
     "execution_count": 197,
     "metadata": {},
     "output_type": "execute_result"
    }
   ],
   "source": [
    "model"
   ]
  },
  {
   "cell_type": "code",
   "execution_count": 132,
   "metadata": {},
   "outputs": [],
   "source": [
    "for embarked_bin in [test]:\n",
    "    embarked_bin['Embarked'] = embarked_bin['Embarked'].map(embarked_map)"
   ]
  },
  {
   "cell_type": "code",
   "execution_count": 133,
   "metadata": {},
   "outputs": [],
   "source": [
    "for title in [test]:\n",
    "    title['Title'] = title['Name'].str.extract(' ([A-Za-z]+)\\.', expand=False)\n",
    "for bin_title in [test]:\n",
    "    bin_title['Title'] = bin_title['Title'].map(title_mapping)"
   ]
  },
  {
   "cell_type": "code",
   "execution_count": 134,
   "metadata": {},
   "outputs": [],
   "source": [
    "test['Age'].fillna(test.groupby('Title')['Age'].transform('median'), inplace=True)"
   ]
  },
  {
   "cell_type": "code",
   "execution_count": 135,
   "metadata": {},
   "outputs": [],
   "source": [
    "test['Fare'].fillna(test.groupby('Pclass')['Fare'].transform('median'), inplace=True)\n",
    "for dataset in [test]:\n",
    "    dataset.loc[ dataset['Fare'] <= 10, 'Fare'] = 0,\n",
    "    dataset.loc[(dataset['Fare'] > 10) & (dataset['Fare'] <= 30), 'Fare'] = 1,\n",
    "    dataset.loc[(dataset['Fare'] > 30) & (dataset['Fare'] <= 100), 'Fare'] = 2,\n",
    "    dataset.loc[ dataset['Fare'] > 100, 'Fare'] = 3\n",
    "test.Fare = test.Fare.astype(np.int64)"
   ]
  },
  {
   "cell_type": "code",
   "execution_count": 142,
   "metadata": {},
   "outputs": [],
   "source": [
    "for bin_age in [test]:\n",
    "    bin_age.loc[bin_age['Age'] <= 15, 'Age'] = 0, # Дети\n",
    "    bin_age.loc[(bin_age['Age'] > 15) & (bin_age['Age'] <= 25), 'Age'] = 1, # Молодые\n",
    "    bin_age.loc[(bin_age['Age'] > 25) & (bin_age['Age'] <= 35), 'Age'] = 2, # Взрослые\n",
    "    bin_age.loc[(bin_age['Age'] > 35) & (bin_age['Age'] <= 48), 'Age'] = 3, # Средний возраст\n",
    "    bin_age.loc[(bin_age['Age'] > 48), 'Age'] = 4 # Пожилые"
   ]
  },
  {
   "cell_type": "code",
   "execution_count": 136,
   "metadata": {},
   "outputs": [],
   "source": [
    "test['Sex'] = np.where(test['Sex'] == 'female', 1, 0)"
   ]
  },
  {
   "cell_type": "code",
   "execution_count": 137,
   "metadata": {},
   "outputs": [
    {
     "data": {
      "text/html": [
       "<div>\n",
       "<style scoped>\n",
       "    .dataframe tbody tr th:only-of-type {\n",
       "        vertical-align: middle;\n",
       "    }\n",
       "\n",
       "    .dataframe tbody tr th {\n",
       "        vertical-align: top;\n",
       "    }\n",
       "\n",
       "    .dataframe thead th {\n",
       "        text-align: right;\n",
       "    }\n",
       "</style>\n",
       "<table border=\"1\" class=\"dataframe\">\n",
       "  <thead>\n",
       "    <tr style=\"text-align: right;\">\n",
       "      <th></th>\n",
       "      <th>PassengerId</th>\n",
       "      <th>Pclass</th>\n",
       "      <th>Name</th>\n",
       "      <th>Sex</th>\n",
       "      <th>Age</th>\n",
       "      <th>SibSp</th>\n",
       "      <th>Parch</th>\n",
       "      <th>Ticket</th>\n",
       "      <th>Fare</th>\n",
       "      <th>Cabin</th>\n",
       "      <th>Embarked</th>\n",
       "      <th>Title</th>\n",
       "    </tr>\n",
       "  </thead>\n",
       "  <tbody>\n",
       "    <tr>\n",
       "      <th>0</th>\n",
       "      <td>892</td>\n",
       "      <td>3</td>\n",
       "      <td>Kelly, Mr. James</td>\n",
       "      <td>0</td>\n",
       "      <td>34.5</td>\n",
       "      <td>0</td>\n",
       "      <td>0</td>\n",
       "      <td>330911</td>\n",
       "      <td>0</td>\n",
       "      <td>NaN</td>\n",
       "      <td>2</td>\n",
       "      <td>0</td>\n",
       "    </tr>\n",
       "    <tr>\n",
       "      <th>1</th>\n",
       "      <td>893</td>\n",
       "      <td>3</td>\n",
       "      <td>Wilkes, Mrs. James (Ellen Needs)</td>\n",
       "      <td>1</td>\n",
       "      <td>47.0</td>\n",
       "      <td>1</td>\n",
       "      <td>0</td>\n",
       "      <td>363272</td>\n",
       "      <td>0</td>\n",
       "      <td>NaN</td>\n",
       "      <td>0</td>\n",
       "      <td>2</td>\n",
       "    </tr>\n",
       "    <tr>\n",
       "      <th>2</th>\n",
       "      <td>894</td>\n",
       "      <td>2</td>\n",
       "      <td>Myles, Mr. Thomas Francis</td>\n",
       "      <td>0</td>\n",
       "      <td>62.0</td>\n",
       "      <td>0</td>\n",
       "      <td>0</td>\n",
       "      <td>240276</td>\n",
       "      <td>0</td>\n",
       "      <td>NaN</td>\n",
       "      <td>2</td>\n",
       "      <td>0</td>\n",
       "    </tr>\n",
       "    <tr>\n",
       "      <th>3</th>\n",
       "      <td>895</td>\n",
       "      <td>3</td>\n",
       "      <td>Wirz, Mr. Albert</td>\n",
       "      <td>0</td>\n",
       "      <td>27.0</td>\n",
       "      <td>0</td>\n",
       "      <td>0</td>\n",
       "      <td>315154</td>\n",
       "      <td>0</td>\n",
       "      <td>NaN</td>\n",
       "      <td>0</td>\n",
       "      <td>0</td>\n",
       "    </tr>\n",
       "    <tr>\n",
       "      <th>4</th>\n",
       "      <td>896</td>\n",
       "      <td>3</td>\n",
       "      <td>Hirvonen, Mrs. Alexander (Helga E Lindqvist)</td>\n",
       "      <td>1</td>\n",
       "      <td>22.0</td>\n",
       "      <td>1</td>\n",
       "      <td>1</td>\n",
       "      <td>3101298</td>\n",
       "      <td>1</td>\n",
       "      <td>NaN</td>\n",
       "      <td>0</td>\n",
       "      <td>2</td>\n",
       "    </tr>\n",
       "  </tbody>\n",
       "</table>\n",
       "</div>"
      ],
      "text/plain": [
       "   PassengerId  Pclass                                          Name  Sex  \\\n",
       "0          892       3                              Kelly, Mr. James    0   \n",
       "1          893       3              Wilkes, Mrs. James (Ellen Needs)    1   \n",
       "2          894       2                     Myles, Mr. Thomas Francis    0   \n",
       "3          895       3                              Wirz, Mr. Albert    0   \n",
       "4          896       3  Hirvonen, Mrs. Alexander (Helga E Lindqvist)    1   \n",
       "\n",
       "    Age  SibSp  Parch   Ticket  Fare Cabin  Embarked  Title  \n",
       "0  34.5      0      0   330911     0   NaN         2      0  \n",
       "1  47.0      1      0   363272     0   NaN         0      2  \n",
       "2  62.0      0      0   240276     0   NaN         2      0  \n",
       "3  27.0      0      0   315154     0   NaN         0      0  \n",
       "4  22.0      1      1  3101298     1   NaN         0      2  "
      ]
     },
     "execution_count": 137,
     "metadata": {},
     "output_type": "execute_result"
    }
   ],
   "source": [
    "test.head()"
   ]
  },
  {
   "cell_type": "code",
   "execution_count": 170,
   "metadata": {},
   "outputs": [],
   "source": [
    "test.Age = test.Age.astype(np.int64)"
   ]
  },
  {
   "cell_type": "code",
   "execution_count": 208,
   "metadata": {},
   "outputs": [],
   "source": [
    "X_test = df_test.iloc[:,:].values\n",
    "X_test_var = Variable(torch.FloatTensor(X_test), requires_grad=False) \n",
    "with torch.no_grad():\n",
    "    test_result = model(X_test_var)\n",
    "values, labels = torch.max(test_result, 1)\n",
    "survived = labels.data.numpy()"
   ]
  },
  {
   "cell_type": "code",
   "execution_count": 209,
   "metadata": {},
   "outputs": [],
   "source": [
    "submission = pd.DataFrame({'PassengerId': df_sub['PassengerId'], 'Survived': survived})"
   ]
  },
  {
   "cell_type": "code",
   "execution_count": 210,
   "metadata": {},
   "outputs": [],
   "source": [
    "submission.to_csv('torch_submission.csv', index=False)"
   ]
  },
  {
   "cell_type": "code",
   "execution_count": null,
   "metadata": {},
   "outputs": [],
   "source": [
    "# Результат на kaggle 0.75598"
   ]
  },
  {
   "cell_type": "code",
   "execution_count": 211,
   "metadata": {},
   "outputs": [],
   "source": [
    "torch.save(model.state_dict(),'torc.pth')"
   ]
  },
  {
   "cell_type": "code",
   "execution_count": 213,
   "metadata": {},
   "outputs": [
    {
     "data": {
      "text/plain": [
       "<All keys matched successfully>"
      ]
     },
     "execution_count": 213,
     "metadata": {},
     "output_type": "execute_result"
    }
   ],
   "source": [
    "model = Net()\n",
    "model.load_state_dict(torch.load('torc.pth'))"
   ]
  }
 ],
 "metadata": {
  "kernelspec": {
   "display_name": "Python 3",
   "language": "python",
   "name": "python3"
  },
  "language_info": {
   "codemirror_mode": {
    "name": "ipython",
    "version": 3
   },
   "file_extension": ".py",
   "mimetype": "text/x-python",
   "name": "python",
   "nbconvert_exporter": "python",
   "pygments_lexer": "ipython3",
   "version": "3.7.0"
  }
 },
 "nbformat": 4,
 "nbformat_minor": 4
}
